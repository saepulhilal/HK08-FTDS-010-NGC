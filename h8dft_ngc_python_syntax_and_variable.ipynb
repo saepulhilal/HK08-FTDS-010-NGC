{
 "cells": [
  {
   "cell_type": "markdown",
   "metadata": {},
   "source": [
    "# NGC-01\n",
    "\n",
    "Nama : Saepul Hilal\n",
    "\n",
    "Batch : FTDS-010\n",
    "\n"
   ]
  },
  {
   "cell_type": "markdown",
   "metadata": {},
   "source": [
    "## Task 1\n",
    "\n",
    "Given list of customer_id that doing transaction in 1 day:customer_id = ['B818', 'A461', 'A092', 'A082', 'B341', 'A005', 'A092', 'A461','B219', 'B904', 'A901', 'A083', 'B904', 'A092', 'B341', 'B821','B341', 'B821', 'B904', 'B818', 'A901', 'A083', 'B818', 'A082','B219', 'B219', 'A083', 'A901', 'A082', 'B341', 'B341', 'A083','A082', 'B219', 'B439', 'A461', 'A005', 'A901', 'B341', 'A082','A083', 'A461', 'A083', 'A901', 'A461', 'A083', 'A082', 'A083','B341', 'A901', 'A082', 'A461', 'B219', 'A083', 'B818', 'B821','A092', 'B341', 'A461', 'A092', 'A083', 'B821', 'A092']\n",
    "\n",
    "How many unique customer_id from above list?\n"
   ]
  },
  {
   "cell_type": "code",
   "execution_count": 4,
   "metadata": {},
   "outputs": [
    {
     "name": "stdout",
     "output_type": "stream",
     "text": [
      "12\n"
     ]
    }
   ],
   "source": [
    "customer_id = ['B818', 'A461', 'A092', 'A082', 'B341', 'A005', 'A092', 'A461','B219', 'B904', 'A901', 'A083', 'B904', 'A092', 'B341', 'B821','B341', 'B821', 'B904', 'B818', 'A901', 'A083', 'B818', 'A082','B219', 'B219', 'A083', 'A901', 'A082', 'B341', 'B341', 'A083','A082', 'B219', 'B439', 'A461', 'A005', 'A901', 'B341', 'A082','A083', 'A461', 'A083', 'A901', 'A461', 'A083', 'A082', 'A083','B341', 'A901', 'A082', 'A461', 'B219', 'A083', 'B818', 'B821','A092', 'B341', 'A461', 'A092', 'A083', 'B821', 'A092']\n",
    "\n",
    "uniqueSet = set(customer_id)\n",
    "print(len(uniqueSet))"
   ]
  },
  {
   "cell_type": "markdown",
   "metadata": {},
   "source": [
    "set() merupakan bagian dari Python Collection yang berfungsi untuk menyimpan banyak item dalam satu variabel. namun set() memiliki kelebihan lain yaitu item yang disimpan dapat tidak berurutan dan tidak terindeks, tidak dapat diubah namun masih bisa ditambahkan dan dihapus kemudian tidak ada item yang sama. apabila terdapat item yang sama maka set() akan menganggap bahwa item tersebut sama.\n",
    "\n",
    "dalam hal ini saya membuat variabel baru dengan nama uniqueSet yang berisikan variable customer_id kemudian di terapkan set(). kemudian untuk menghitung berapa banyak customer_id yang unik saya menggunkan method len()."
   ]
  },
  {
   "cell_type": "markdown",
   "metadata": {},
   "source": [
    "## Task 2\n",
    "\n",
    "Given list of:\n",
    "\n",
    "Data = [1, 4, 9, 16, 25, 36, 49,  64, 81, 100]\n",
    "\n",
    "Use indexing so you can get this output:\n",
    "\n",
    "a.16\n",
    "\n",
    "b.[36, 49, 64, 81]\n",
    "\n",
    "c.[100, 81, 64, 49, 36, 25, 16, 9, 4, 1]\n"
   ]
  },
  {
   "cell_type": "code",
   "execution_count": 61,
   "metadata": {},
   "outputs": [
    {
     "name": "stdout",
     "output_type": "stream",
     "text": [
      "16\n",
      "[36, 49, 64, 81]\n",
      "None\n"
     ]
    }
   ],
   "source": [
    "Data = [1, 4, 9, 16, 25, 36, 49,  64, 81, 100]\n",
    "\n",
    "\n",
    "\n",
    "print(Data[3])\n",
    "print(Data[5:9])\n",
    "\n",
    "x = Data.sort(reverse=True)\n",
    "\n",
    "print(x)"
   ]
  },
  {
   "cell_type": "markdown",
   "metadata": {},
   "source": [
    "a. saya mengakses item 16 dengan menggunakan index[] ke 3 yang berarti item tersebut terdapat pada urutan ke 4.\n",
    "\n",
    "b. saya menggunakan index[] yang terdapat range didalamnya. angka pertama menunjukan index pertama yang dipilih kemudian angka kedua menujukan index setelahnya.\n",
    "\n",
    "c. sort() merupakan method yang secara default akan mengurutkan secara ascending. untuk membuatnya menjadi descending maka diperlekan parameter tambahan yaitu reverse=True"
   ]
  },
  {
   "cell_type": "markdown",
   "metadata": {},
   "source": [
    "## Task 3\n",
    "\n",
    "Given a dictionary of:\n",
    "\n",
    "provinsi = {'Nanggroe Aceh Darussalam': 'Aceh','Sumatera Selatan': 'Palembang','Kalimantan Barat': 'Pontianak','Jawa Timur': 'Madiun','Sulawesi Selatan': 'Makassar','Maluku': 'Ambon'}\n",
    "\n",
    "What python command can be use to:\n",
    "\n",
    "a.Get list of keys available in dictionary\n",
    "\n",
    "b.Change 'Jawa Timur' value from 'Madiun'  to 'Surabaya'6\n"
   ]
  },
  {
   "cell_type": "code",
   "execution_count": 154,
   "metadata": {},
   "outputs": [
    {
     "name": "stdout",
     "output_type": "stream",
     "text": [
      "========================================\n",
      "\n",
      "Berikut ini daftar keys yang tersedia :\n",
      "\n",
      "1 Nanggroe Aceh Darussalam\n",
      "2 Sumatera Selatan\n",
      "3 Kalimantan Barat\n",
      "4 Jawa Timur\n",
      "5 Sulawesi Selatan\n",
      "6 Maluku\n",
      "========================================\n",
      "\n",
      "Update value pada key Jawa Timur menjadi Surabaya\n",
      "\n",
      "Nanggroe Aceh Darussalam  = Aceh\n",
      "Sumatera Selatan  = Palembang\n",
      "Kalimantan Barat  = Pontianak\n",
      "Jawa Timur  = Surabaya\n",
      "Sulawesi Selatan  = Makassar\n",
      "Maluku  = Ambon\n",
      "========================================\n"
     ]
    }
   ],
   "source": [
    "provinsi = {'Nanggroe Aceh Darussalam': 'Aceh','Sumatera Selatan': 'Palembang','Kalimantan Barat': 'Pontianak','Jawa Timur': 'Madiun','Sulawesi Selatan': 'Makassar','Maluku': 'Ambon'}\n",
    "\n",
    "print('========================================')\n",
    "print('')\n",
    "print('Berikut ini daftar keys yang tersedia :')\n",
    "print('')\n",
    "\n",
    "x = 0\n",
    "for key in provinsi:\n",
    "    x += 1\n",
    "    print(x,key)\n",
    "    \n",
    "\n",
    "\n",
    "\n",
    "print('========================================')\n",
    "print('')\n",
    "print('Update value pada key Jawa Timur menjadi Surabaya')\n",
    "print('')\n",
    "\n",
    "provinsi['Jawa Timur'] = 'Surabaya'\n",
    "\n",
    "for key in provinsi:\n",
    "    print(key, \" = \" + provinsi[key])\n",
    "\n",
    "print('========================================')\n",
    "\n",
    "\n",
    "   \n",
    "\n"
   ]
  },
  {
   "cell_type": "markdown",
   "metadata": {},
   "source": [
    "a. untuk melihat keys apa saja yang tersedia saya menggunakan loop for\n",
    "\n",
    "\n",
    "b. untuk mengubah value dari key Jawa Timur saya menggunakan syntax berikut ini provinsi['Jawa Timur'] = 'Surabaya' dan untuk memastikan apakah sudah terubah saya menggunakan loop for untuk melihat seluruh keys dan values"
   ]
  },
  {
   "cell_type": "code",
   "execution_count": 125,
   "metadata": {},
   "outputs": [
    {
     "ename": "TypeError",
     "evalue": "'int' object is not iterable",
     "output_type": "error",
     "traceback": [
      "\u001b[0;31m---------------------------------------------------------------------------\u001b[0m",
      "\u001b[0;31mTypeError\u001b[0m                                 Traceback (most recent call last)",
      "\u001b[1;32m/Users/saepulhilal/Hacktiv8/HK08-FTDS-010-NGC/NGC1.ipynb Cell 11\u001b[0m line \u001b[0;36m3\n\u001b[1;32m      <a href='vscode-notebook-cell:/Users/saepulhilal/Hacktiv8/HK08-FTDS-010-NGC/NGC1.ipynb#X20sZmlsZQ%3D%3D?line=0'>1</a>\u001b[0m nilai \u001b[39m=\u001b[39m \u001b[39m1\u001b[39m\n\u001b[0;32m----> <a href='vscode-notebook-cell:/Users/saepulhilal/Hacktiv8/HK08-FTDS-010-NGC/NGC1.ipynb#X20sZmlsZQ%3D%3D?line=2'>3</a>\u001b[0m \u001b[39mfor\u001b[39;00m x \u001b[39min\u001b[39;00m nilai:\n\u001b[1;32m      <a href='vscode-notebook-cell:/Users/saepulhilal/Hacktiv8/HK08-FTDS-010-NGC/NGC1.ipynb#X20sZmlsZQ%3D%3D?line=3'>4</a>\u001b[0m     nilai \u001b[39m=\u001b[39m nilai\u001b[39m.\u001b[39mstr \u001b[39m+\u001b[39m \u001b[39m1\u001b[39m\n",
      "\u001b[0;31mTypeError\u001b[0m: 'int' object is not iterable"
     ]
    }
   ],
   "source": [
    "nilai = 1\n",
    "\n",
    "for x in nilai:\n",
    "    nilai = nilai.str + 1"
   ]
  },
  {
   "cell_type": "code",
   "execution_count": 136,
   "metadata": {},
   "outputs": [
    {
     "name": "stdout",
     "output_type": "stream",
     "text": [
      "range(1, 8)\n",
      "range(1, 8)\n",
      "range(1, 8)\n",
      "range(1, 8)\n",
      "range(1, 8)\n",
      "range(1, 8)\n",
      "range(1, 8)\n"
     ]
    }
   ],
   "source": [
    "key = range(1, 8)\n",
    "for n in key:\n",
    "    print(key)"
   ]
  },
  {
   "cell_type": "code",
   "execution_count": null,
   "metadata": {},
   "outputs": [],
   "source": []
  }
 ],
 "metadata": {
  "kernelspec": {
   "display_name": "base",
   "language": "python",
   "name": "python3"
  },
  "language_info": {
   "codemirror_mode": {
    "name": "ipython",
    "version": 3
   },
   "file_extension": ".py",
   "mimetype": "text/x-python",
   "name": "python",
   "nbconvert_exporter": "python",
   "pygments_lexer": "ipython3",
   "version": "3.11.4"
  }
 },
 "nbformat": 4,
 "nbformat_minor": 2
}
